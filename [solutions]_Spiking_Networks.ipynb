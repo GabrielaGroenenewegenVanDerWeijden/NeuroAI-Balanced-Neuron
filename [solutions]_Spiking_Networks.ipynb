{
  "cells": [
    {
      "cell_type": "markdown",
      "metadata": {
        "colab_type": "text",
        "id": "view-in-github"
      },
      "source": [
        "<a href=\"https://colab.research.google.com/github/GabrielaGroenenewegenVanDerWeijden/NeuroAI-Balanced-Neuron/blob/main/%5Bsolutions%5D_Spiking_Networks.ipynb\" target=\"_parent\"><img src=\"https://colab.research.google.com/assets/colab-badge.svg\" alt=\"Open In Colab\"/></a>"
      ]
    },
    {
      "cell_type": "markdown",
      "metadata": {
        "id": "8-wMVqObQ--2"
      },
      "source": [
        "# Project: Spiking Networks"
      ]
    },
    {
      "cell_type": "markdown",
      "metadata": {
        "id": "pi4ydK9ORD6Q"
      },
      "source": [
        "## How do spikes propagate through networks?\n",
        "\n"
      ]
    },
    {
      "cell_type": "markdown",
      "metadata": {
        "id": "_Y_1bcH3-eeW"
      },
      "source": [
        "Transmission of spiking activity from one cell to another generally procedes like this: (1) Spikes originate close to the cell's soma (axon hillock) via Sodium channel positive feedback, (2) propagate through axons, (3) activate pre-synapses to release neurotransmitters, which are (4) taken up by receptors of the post-synaptic cell, which (5)  activate conductances that (6) become current fluxes into the post-synaptic cell. These current fluxes can be inward and thus excitatory (+, e.g. NMDA/AMPA) or outward, and thus inhibitory (-, e.g., GABA, Glycine). Sufficient current leads to a postsynaptic action potential. And this process propagates to all connected neurons in a network.\n",
        "\n",
        "**In this project** we want to build some networks that will allow us to ask \"when do spikes propagate?\" . You will be shown how to construct randomly recurrent networks of *LIF* spiking neurons, how to give the neurons some input, how to define basic synapses, and how to analyze network spiking behavior. We will have a challenge: search for a set of **synaptic parameters** that produces 'sustained' activity when given stochastic background input, via random **Poisson** processes.\n",
        "\n",
        "The project has two parts:\n",
        "\n",
        "---\n",
        "**Part I: Driving neurons to spike**\n",
        "\n",
        "- Feeding a network with input and observe the input-output relationship.\n",
        "- Measure and visualize the firing rate of neurons via histograms and raster plots.\n",
        "- Produce 'random' spiking input via a 'Poisson process'.\n",
        "- Produce periodic input via a sine wave.\n",
        "---\n",
        "\n",
        "**Part II: Balanced networks**\n",
        "\n",
        "- Create a network with excitatory and inhibitory neurons.\n",
        "- Inspect the influence of synaptic and connectivity parameters on the dynamics of the network\n",
        "\n",
        "This should allow you to:\n",
        "\n",
        "- Balance the excitation and inhibition in the network to produce sustained activity."
      ]
    },
    {
      "cell_type": "markdown",
      "metadata": {
        "id": "hmSPB9pt4MkD"
      },
      "source": [
        "## Simulating Neural Networks with Brian"
      ]
    },
    {
      "cell_type": "markdown",
      "metadata": {
        "id": "mx5UK4Yt4SSq"
      },
      "source": [
        "We will continue to use 'Brian2' python package as our spiking neuron network simulator of choice. Brian has the advantage of making the models very explicit and readable, and has some convenient facilities for defining synapses and networks. [Here is an introduction to making Brian network models](https://brian2.readthedocs.io/en/stable/user/models.html). [Here is another on Synapses](https://brian2.readthedocs.io/en/stable/resources/tutorials/2-intro-to-brian-synapses.html).\n",
        "\n",
        "Though not strictly required for the project, it is arguably useful to learn the basics of Brian. As all languages, it has its powers and its quirks, and to write code for it is important to understand its axioms."
      ]
    },
    {
      "cell_type": "markdown",
      "metadata": {
        "id": "5UxEbiVFRluX"
      },
      "source": [
        "## Pre-requisites"
      ]
    },
    {
      "cell_type": "markdown",
      "metadata": {
        "id": "dvOWrxWE-kSE"
      },
      "source": [
        "- Intuition about spiking dynamics of Leaky Integrate and Fire (IF) neurons.\n",
        "- Basic knowledge about synaptic models (particuarly, event-based current steps)."
      ]
    },
    {
      "cell_type": "markdown",
      "metadata": {
        "id": "nuYOM7ZBR1IV"
      },
      "source": [
        "## Learning Goals"
      ]
    },
    {
      "cell_type": "markdown",
      "metadata": {
        "id": "I_i8tAxfR360"
      },
      "source": [
        "In this project you will learn how to:\n",
        "- create a neuronal group with a population of IF neurons.\n",
        "- add simple excitatory and inhibitory synapses to that group.\n",
        "- stimulate the network via random events (a Poisson Input).\n",
        "- create a randomly connected network.\n",
        "- calculate basic statistics of network activity, such as average firing rate.\n",
        "- display network activity via raster plots and histograms.\n",
        "- manually tune a network to be balanced and produce different kinds of network activity."
      ]
    },
    {
      "cell_type": "markdown",
      "metadata": {
        "id": "8APOQsJ5S5v6"
      },
      "source": [
        "## Terminology"
      ]
    },
    {
      "cell_type": "markdown",
      "metadata": {
        "id": "AaaBr-HzS-3s"
      },
      "source": [
        " - **stochastic inputs**: we say something is stochastic when we cannot account for all sources of variability. For example, we can say that a neuron receives stochastic input from the rest of the brain. Stochastic input can look like 'noise' (statistically).\n",
        " - **event based synapses**: synaptic currents that are activated by a synapse in the pre-synaptic neuron, an 'event'.\n",
        " - **balanced networks**: Networks where inhibition and excitation are balanced.\n",
        " - **raster plots**: A method to display the spikes of multiple neurons.\n",
        " - **histograms**: A bar plot with the counts of events within a time bin.\n",
        " - **time series**: A continuous signal over time (such as membrane potential)."
      ]
    },
    {
      "cell_type": "markdown",
      "metadata": {
        "id": "rV8gZcx3TR63"
      },
      "source": [
        "## Initialization"
      ]
    },
    {
      "cell_type": "code",
      "execution_count": 1,
      "metadata": {
        "id": "9W_plJ1eTVaj"
      },
      "outputs": [
        {
          "name": "stdout",
          "output_type": "stream",
          "text": [
            "Collecting brian2\n",
            "  Downloading brian2-2.9.0-cp311-cp311-macosx_11_0_arm64.whl.metadata (6.2 kB)\n",
            "Requirement already satisfied: numpy>=1.23.5 in /opt/anaconda3/lib/python3.11/site-packages (from brian2) (1.26.4)\n",
            "Collecting cython>=0.29.21 (from brian2)\n",
            "  Downloading cython-3.1.4-cp311-cp311-macosx_11_0_arm64.whl.metadata (5.0 kB)\n",
            "Requirement already satisfied: sympy>=1.2 in /opt/anaconda3/lib/python3.11/site-packages (from brian2) (1.13.1)\n",
            "Requirement already satisfied: pyparsing in /opt/anaconda3/lib/python3.11/site-packages (from brian2) (3.0.9)\n",
            "Requirement already satisfied: jinja2>=2.7 in /opt/anaconda3/lib/python3.11/site-packages (from brian2) (3.1.5)\n",
            "Requirement already satisfied: setuptools>=61 in /opt/anaconda3/lib/python3.11/site-packages (from brian2) (68.2.2)\n",
            "Requirement already satisfied: packaging in /opt/anaconda3/lib/python3.11/site-packages (from brian2) (24.2)\n",
            "Requirement already satisfied: MarkupSafe>=2.0 in /opt/anaconda3/lib/python3.11/site-packages (from jinja2>=2.7->brian2) (3.0.2)\n",
            "Requirement already satisfied: mpmath<1.4,>=1.1.0 in /opt/anaconda3/lib/python3.11/site-packages (from sympy>=1.2->brian2) (1.3.0)\n",
            "Downloading brian2-2.9.0-cp311-cp311-macosx_11_0_arm64.whl (1.2 MB)\n",
            "\u001b[2K   \u001b[90m━━━━━━━━━━━━━━━━━━━━━━━━━━━━━━━━━━━━━━━━\u001b[0m \u001b[32m1.2/1.2 MB\u001b[0m \u001b[31m6.0 MB/s\u001b[0m eta \u001b[36m0:00:00\u001b[0m00:01\u001b[0m00:01\u001b[0m\n",
            "\u001b[?25hDownloading cython-3.1.4-cp311-cp311-macosx_11_0_arm64.whl (3.0 MB)\n",
            "\u001b[2K   \u001b[90m━━━━━━━━━━━━━━━━━━━━━━━━━━━━━━━━━━━━━━━━\u001b[0m \u001b[32m3.0/3.0 MB\u001b[0m \u001b[31m7.6 MB/s\u001b[0m eta \u001b[36m0:00:00\u001b[0ma \u001b[36m0:00:01\u001b[0m\n",
            "\u001b[?25hInstalling collected packages: cython, brian2\n",
            "Successfully installed brian2-2.9.0 cython-3.1.4\n"
          ]
        }
      ],
      "source": [
        "!pip install brian2\n",
        "from brian2 import *\n",
        "import numpy as np\n",
        "from matplotlib.pyplot import *\n",
        "from random import sample # note that these two below act differently\n",
        "from numpy import random"
      ]
    },
    {
      "cell_type": "markdown",
      "metadata": {
        "id": "-rx4iSQhfaiZ"
      },
      "source": [
        "# Part I. Spiking Networks with Random Input"
      ]
    },
    {
      "cell_type": "markdown",
      "metadata": {
        "id": "4j5BgrE9ELFS"
      },
      "source": [
        "## Making a Neuronal Network Model"
      ]
    },
    {
      "cell_type": "markdown",
      "metadata": {
        "id": "P10-ggBOYgG3"
      },
      "source": [
        "**When setting up a network of spiking neurons these are some of the core questions we must consider**:\n",
        "\n",
        "0. What are we trying to represent? (e.g., cortex, cerebellum, hippocampus, ...)\n",
        "1. What neuronal model(s) will we use (e.g., HH, AdEx, LIF)? (and why?)\n",
        "2. How many neurons are in the model network? (do we have the computational resources?)\n",
        "3. What is the proportion of neurons of different types (e.g. excitatory, inhibitory, modulatory neurons)?\n",
        "4. Which types of synapses connect the neurons?\n",
        "5. How are neurons connected?\n",
        "6. What are the inputs to the network?\n",
        "\n",
        "The answer to these questions implies a specific choice of model equations, parameters and **instantiates** a particular network."
      ]
    },
    {
      "cell_type": "markdown",
      "metadata": {
        "id": "SttVU8WY4sAg"
      },
      "source": [
        "## Network with Random Inputs"
      ]
    },
    {
      "cell_type": "markdown",
      "metadata": {
        "id": "_jB0-OpG9olq"
      },
      "source": [
        "\n",
        "\n",
        "In an important sense, random inputs are the most general input to a network, and even if one plans to give specific input to a network on a later stage, one often starts modeling by sanity checking network activity to random input.\n",
        "\n",
        "Random inputs to a network can be thought of as representing signals from unknown areas, and in a sense, they include 'every possible input' to a given network.\n",
        "\n",
        "Two of the most common methods to create random input into a network are 1) **the Poisson process** and 2) **noisy current fluctuations**.\n",
        "\n",
        "- **Poisson Process**: [The Poisson process](https://en.wikipedia.org/wiki/Poisson_point_process) in general models a series of discrete events where we know the *rate* of event emmission, or equivalently the *average* time between events, where the *exact* interval between events is random. (i.e. `mean(y) = var(y) =` $\\lambda$)\n",
        "\n",
        "  The Poisson distribution has one parameter, $\\lambda$ that states the probability of a given number of spikes within a time interval.\n",
        "\n",
        "    **Example**.\n",
        "    It is the spiking equivalent of a coin toss. For a given time interval (say 1 second), and a given probability of spiking (say 50Hz, 50 spikes per second), we split the second into 1000 bins of 1ms, such that maximally one spike can fall in a bin. Then, for each time bin we decide whether a spike has happened  by generating a random number and checking whether it was smaller than the probability of finding a spike in any bin (one coin toss per bin).  Given the 50Hz rate, $p = 0.05$ -- spikes/milisecond). That is, we say that there was a spike if  ```rand()<=p``` where ```rand()``` is a single random number and $p$ is the probability given the rate $\\lambda$.\n",
        "\n",
        "- **Current noise**: A continous random current injection, also called \"stochastic\". For any time interval, the neuron receives a current whose amplitude given by a random number from some distribution. Variations on this are the Gaussian process (random number from the normal distribution), the Wiener process (a random walk), Orstein-Uhlenbeck (non drifting gaussian process). We will not go in detail in this project, but here's some [background information](https://brian2.readthedocs.io/en/stable/user/models.html#noise) and [an example](https://brian2.readthedocs.io/en/stable/examples/non_reliability.html).\n"
      ]
    },
    {
      "cell_type": "markdown",
      "metadata": {
        "id": "UR9vyy0nm3y8"
      },
      "source": [
        "## A Poisson Process\n",
        "\n",
        "Here we produce one instantiation of the poisson process whose rate is given by the parameter $\\lambda$ representing the rate of the process, that is, how many events are expected in a given interval (if the interval is one second, the unit is Hz)."
      ]
    },
    {
      "cell_type": "code",
      "execution_count": null,
      "metadata": {
        "id": "1j-LsQJC6CIo"
      },
      "outputs": [],
      "source": [
        "# A single Poisson spike process\n",
        "\n",
        "# suggestion: run it multiple times. What changes? What is the (approximately) the same?\n",
        "\n",
        "# below we call rate the number of 'events' per second (Hz). This is a rate we want to produce.\n",
        "# Note that this is only same as lambda if the interval is a second (50/1).\n",
        "# However, we want to calculate in chance that any ms will have a spike, so our lambda is (spikes/ms).\n",
        "\n",
        "rate = 50 # Hz\n",
        "\n",
        "interval = 1000 # ms\n",
        "binsize = 1 # ms\n",
        "\n",
        "#below 'prob' is the same as 'lambda'\n",
        "prob = rate / (interval / binsize) # the denominator defines the number of 'bins' in interval.\n",
        "\n",
        "R = random.uniform(low=0.0, high=1.0,size=(int(interval/binsize),1))\n",
        "events = where(R < prob)\n",
        "# events contain the indices of \"event\" bins.\n",
        "\n",
        "plt.scatter(events[0], events[1],s=1.5)\n",
        "plt.yticks([])\n",
        "plt.xlabel('miliseconds')\n",
        "plt.title('A 50Hz Poisson Process')\n",
        "plt.legend(['spikes'])\n",
        "\n",
        "# if you want to see the timing of spikes, uncomment the line below\n",
        "# print(events[0])\n",
        "\n",
        "number_of_events = len(events[0])\n",
        "print('number of events: '+ str(number_of_events))"
      ]
    },
    {
      "cell_type": "markdown",
      "metadata": {
        "id": "Mq4KFCYT9WRj"
      },
      "source": [
        "> The little dots above represent *events*, which could be taken to be *random spikes* with a given frequency. We could also represent them as little vertical lines, more commonly seen display of *spike trains*. This is left as an exercise for the reader =]"
      ]
    },
    {
      "cell_type": "markdown",
      "metadata": {
        "id": "teGtrFNxzC2K"
      },
      "source": [
        "### Exercise\n",
        "\n",
        "Run the simulation above multiple times. Is the frequency always the same? Are the spikes always happening the same time?"
      ]
    },
    {
      "cell_type": "markdown",
      "metadata": {
        "id": "kZMqajfrzC2L"
      },
      "source": [
        "## Leaky-Integrate and Fire"
      ]
    },
    {
      "cell_type": "markdown",
      "metadata": {
        "id": "Tu9rem7QzC2L"
      },
      "source": [
        "Below we assume a basic understanding of the dynamics of the leaky-integrate and fire neuron. For an in-depth analysis about the dynamics of the LIF neuron [go though this notebook.](https://colab.research.google.com/github/johanjan/MOOC-HPFEM-source/blob/master/LIF_ei_balance_irregularity.ipynb#scrollTo=Qb3r2hd_fWzX)"
      ]
    },
    {
      "cell_type": "markdown",
      "metadata": {
        "id": "pqx6jRSz3snF"
      },
      "source": [
        "## LIF network with Poisson inputs"
      ]
    },
    {
      "cell_type": "markdown",
      "metadata": {
        "id": "cuUk5istPYuZ"
      },
      "source": [
        "What would happen if a set of unconnected leaky integrate and fire (LIF) neurons receives random spikes from unknown upstream sources? Let's imagine that we have a neural network setup as follows:\n",
        "\n",
        "0. **What:** A group of of neurons driven by random spiking events (Poisson)\n",
        "1. **Neuron model:** LIF neurons\n",
        "2. **N = 100*** (and 100 Poisson sources, one for each neuron)\n",
        "4. **Synaptic dynamics:** for every input spike, ge += 5mV* (and decays in 10ms)\n",
        "5. **Connectivity:** each input source connects to one neuron, but **neurons in the group do not connect to each other**. This way we can understand the effects of input without the confounders of connectity. Later we shall connect the neurons.\n",
        "6. **Input:** 100 Poisson events at 500HZ, connected 1 to 1."
      ]
    },
    {
      "cell_type": "code",
      "execution_count": null,
      "metadata": {
        "id": "D9Vnk-QD3yhC"
      },
      "outputs": [],
      "source": [
        "# Create a network of integrate and fire neurons with poisson input\n",
        "start_scope() # always start with this\n",
        "\n",
        "N = 100 #  number of neurons\n",
        "poisson_event_rate = 500.*Hz\n",
        "\n",
        "runtime = 1000*ms\n",
        "\n",
        "taum = 20*ms #  membrane time constant\n",
        "taue = 5*ms # excitatory synapse time constant\n",
        "Vt = -45*mV # spiking threshold\n",
        "Vr = -50*mV # reset potential\n",
        "El = -60*mV # leak reversal potential\n",
        "\n",
        "# increment of synaptic voltage\n",
        "exc_step = 5*mV; # quiz: why do you think the unit is mV? see comment =]\n",
        "\n",
        "eqs = '''\n",
        "dv/dt  = (ge-(v-El))/taum : volt (unless refractory)\n",
        "dge/dt = -ge/taue : volt (unless refractory)\n",
        "'''\n",
        "\n",
        "# Poisson inputs\n",
        "# https://brian2.readthedocs.io/en/stable/user/input.html?highlight=poisson#more-on-poisson-inputs\n",
        "sources = PoissonGroup(N=N, rates=poisson_event_rate)\n",
        "#sources = PoissonInput(target=neurons, target_var='v', N=100, rate=poisson_event_rate, weight=0.1*mV)\n",
        "\n",
        "# LIF neuron group\n",
        "neurons = NeuronGroup(N, eqs, threshold='v>Vt', reset='v = Vr', refractory=5*ms, method='euler')\n",
        "\n",
        "# creates synapses between poisson input and firing neurons that\n",
        "# add a voltage step at every presynaptic event\n",
        "S = Synapses(sources, neurons, on_pre='ge+=exc_step')\n",
        "\n",
        "# NOTE: on_pre is a keyword in brian that specifies what happens on the postsynaptic neuron when presynaptic neuron fires\n",
        "S.connect(j='i') # this is Brian's method to connect every 'i' (source synapse)\n",
        "\n",
        "# set the initial state of the network\n",
        "neurons.v = Vr\n",
        "\n",
        "# create State Monitors\n",
        "netmon = StateMonitor(neurons, ['v','ge'], record=np.arange(0,N)) # one could also write 'True', to record all neurons.\n",
        "spikemon = SpikeMonitor(neurons)\n",
        "\n",
        "run(runtime) # run simulation for 1 second"
      ]
    },
    {
      "cell_type": "markdown",
      "metadata": {
        "id": "-0I16Jm-BdlT"
      },
      "source": [
        "### Inspecting Outputs"
      ]
    },
    {
      "cell_type": "markdown",
      "metadata": {
        "id": "FcZE4ftgzC2N"
      },
      "source": [
        "For a single neuron we plot the time course of ```ge``` and ```v``` after running the simulation. Plot variables vs time (on the x-axis) and use one subplot per variable.\n",
        "\n",
        "> One important thing to notice is that we have to 'divide by unit' to be able to plot, as numpy does not know how to plot variables that have units. Note: ```netmon.t/ms``` or ```netmon.v[0]/mV```. In addition we index which neuron to plot with square brackets ```netmon.v[0]/mV```."
      ]
    },
    {
      "cell_type": "code",
      "execution_count": null,
      "metadata": {
        "id": "oKxDrf4Vg-q8"
      },
      "outputs": [],
      "source": [
        "figure(figsize=(12,6))\n",
        "subplot(211)\n",
        "\n",
        "# to plot the variables run the code above and use plt.plot on the recorded variables\n",
        "# - for plotting you will need to remove the units from time and mV\n",
        "\n",
        "plot(netmon.t/ms,netmon.v[0]/mV)\n",
        "xlabel('Time (ms)')\n",
        "ylabel('V (mV)')\n",
        "\n",
        "subplot(212)\n",
        "plot(netmon.t/ms,netmon.ge[0])\n",
        "xlabel('Time (ms)')\n",
        "ylabel('ge (-)')\n",
        "show()"
      ]
    },
    {
      "cell_type": "markdown",
      "metadata": {
        "id": "TamLew49AmIW"
      },
      "source": [
        "## Measuring Spiking Activity"
      ]
    },
    {
      "cell_type": "markdown",
      "metadata": {
        "id": "tLp0XtoX7QIx"
      },
      "source": [
        "In modeling as in experiment, the spiking activity of neurons is commonly measured via **firing rates**, **interspike intervals**, **raster plots** and **activity histograms**.\n",
        "- **Firing rate** is the frequency of spiking of the neurons, or how many spikes are fired per second. That can clearly vary as a function of network state or input.\n",
        "- **Inter Spike Interval (ISI)** is the interval between two spikes. We often display the distribution (histogram of the ISI) to look into the variability of ISIs.The reciprocal of the ISI is called 'instantaneous firing rate'.\n",
        "- A **raster plot** displays spikes as dots, with the neuron index on one axis and time on another. The firing rate of the entire network can be read from this graph as  the number of spikes divided by (time x neurons).\n",
        "- A **spike count histogram** counts the numbers of spikes within a given bin across time. It is usually measured in number of spikes or in frequency units (spikes/bin => Hz). It is an ideal way to visualize the changes of network activity over time."
      ]
    },
    {
      "cell_type": "markdown",
      "metadata": {
        "id": "y1kno3ap0mkc",
        "solution": "shown",
        "solution_first": true
      },
      "source": [
        "### Firing Rates"
      ]
    },
    {
      "cell_type": "markdown",
      "metadata": {
        "id": "w2HuTxwNzC2Q"
      },
      "source": [
        "#### Exercise\n",
        "\n",
        "---\n",
        "\n",
        "For the simulation you ran above, use basic math (in numpy) to find the firing rates:\n",
        "- of selected single neurons\n",
        "- of the entire network\n",
        "\n",
        "\n",
        "\n",
        "**Needful things:**\n",
        "\n",
        "  - ```spikemon.count```  - the array of spike counts\n",
        "  - ```spikemon.count[0]```  - total number of spikes for the first neuron in the population\n",
        "  - ```spikemon.t[0]``` - time of first spike\n",
        "  - ```spikemon.t[-1]``` - time of last spike\n",
        "  - ```netmon.t[0]```  - time at the beginning of simulation\n",
        "  - ```netmon.t[-1]``` - time at the end of simulation\n",
        "\n",
        "---"
      ]
    },
    {
      "cell_type": "code",
      "execution_count": null,
      "metadata": {
        "id": "cX9-aOeizC2S"
      },
      "outputs": [],
      "source": [
        "# YOUR CODE\n",
        "\n",
        "# calculate the firing frequence of a single neuron\n",
        "\n",
        "\n",
        "# calculate the firing frequence of a the population of neurons"
      ]
    },
    {
      "cell_type": "markdown",
      "metadata": {
        "id": "hFfv2XutzC2S"
      },
      "source": [
        "#### Solution"
      ]
    },
    {
      "cell_type": "code",
      "execution_count": null,
      "metadata": {
        "id": "jsXy7PtN8jrg"
      },
      "outputs": [],
      "source": [
        "# Calculate Firing rates\n",
        "\n",
        "## per neuron (t[-1] means 'the time of the last spike' )\n",
        "fr_per_neuron = (spikemon.count[0])/(spikemon.t[-1] - spikemon.t[0]);\n",
        "print(f'The firing frequency of neuron 1 is: {fr_per_neuron}')\n",
        "\n",
        "## the population\n",
        "fr_pop = sum(spikemon.count)/((spikemon.t[-1] - spikemon.t[0])*N)\n",
        "print(f'The population firing frequency is: {fr_pop}')"
      ]
    },
    {
      "cell_type": "markdown",
      "metadata": {
        "id": "HgcrV1BZHk1U"
      },
      "source": [
        "### Visualizing Network Activity"
      ]
    },
    {
      "cell_type": "markdown",
      "metadata": {
        "id": "5S_rNwghFRTn"
      },
      "source": [
        "How to represent the activity of a spiking neural network? We can plot the spikes over time as dots in a raster plot, where each row in the y-axis display spikes from a single neuron (or a trial). The **raster plot** gives us an idea of the regularity and temporal patterning of the spikes. If we are interested in spike counts over time, we can use a **spike count histogram** which accumulates spikes in a bin of a given duration. The histogram gives us a sense of the average firing rate (in Hz or in spikes per bin) of the entire network. We can read out the average rate of the neurons by (mentally) dividing the spike count in a single bar by the bin duration and the number of neurons in the network.\n",
        "\n",
        "Below you see how to create a **raster plot** and a **spike count histogram**."
      ]
    },
    {
      "cell_type": "code",
      "execution_count": null,
      "metadata": {
        "id": "NZHcWuoNEMww"
      },
      "outputs": [],
      "source": [
        "# spike count histogram\n",
        "\n",
        "bins = 20 # choose the number of time bins you want\n",
        "bin_time = runtime/bins/ms # time of one bin\n",
        "spike_times = spikemon.t/ms # get spike times\n",
        "intervals = list(range(0, int(runtime/ms), int(bin_time))) # the bins\n",
        "\n",
        "plt.figure(1, figsize=[9,4], dpi=100)\n",
        "plt.subplot(211)\n",
        "plt.title('Raster plot')\n",
        "\n",
        "plt.plot(spikemon.t/ms, spikemon.i, '.k', ms=1.2) # spikemon.i retrieves all neurons\n",
        "plt.xlabel('Time (ms)')\n",
        "plt.ylabel('Neuron index')\n",
        "plt.xticks(intervals)\n",
        "\n",
        "plt.subplot(212)\n",
        "plt.title('Spike count histogram')\n",
        "plt.hist(spike_times, bins=intervals, rwidth=0.8)\n",
        "plt.xticks(intervals);\n",
        "plt.xlabel('interval (ms)')\n",
        "plt.ylabel('# spikes')\n",
        "plt.tight_layout()"
      ]
    },
    {
      "cell_type": "markdown",
      "metadata": {
        "id": "u77vL53IzC2V"
      },
      "source": [
        "#### Question\n",
        "---\n",
        "- What is the frequency of the network above? Is the binsize we chose good or bad? Why?\n",
        "---"
      ]
    },
    {
      "cell_type": "markdown",
      "metadata": {
        "id": "8GTOv7FcxhEE"
      },
      "source": [
        "### Analog Traces\n"
      ]
    },
    {
      "cell_type": "markdown",
      "metadata": {
        "id": "mhWR4NEk-WUE"
      },
      "source": [
        "The spikes are only the \"peak of the icebergs\". To visualize what happens below the water level one can also plot the continuous variables associated with the neuron's activity (aka, *time series*). To understand how a network behaves one often needs to display the membrane potential or the excitatory conductances, which are continuous variables."
      ]
    },
    {
      "cell_type": "markdown",
      "metadata": {
        "id": "Yv2U4kBWZizO"
      },
      "source": [
        "> Below you see the traces of a single neuron in the network, the top plot has the EPSP (the excitatory post synaptic potentials, ```ge```) and the cells membrane potential. Note also that we artificially plot 'spikes' at the threshold crossings."
      ]
    },
    {
      "cell_type": "code",
      "execution_count": null,
      "metadata": {
        "id": "HR4zewJOTGZe"
      },
      "outputs": [],
      "source": [
        "plt.figure(1, figsize=[8,3], dpi=100)\n",
        "plt.subplot(2,1,1)\n",
        "plot(netmon.t/ms, netmon.ge[0]/mV, label='ge')\n",
        "legend();\n",
        "ylabel('EPSV (mV)')\n",
        "subplot(2,1,2)\n",
        "plot(netmon.t/ms, netmon.v[0]/mV, label='V')\n",
        "plot([spikemon.t[np.where(spikemon.i==0)[0]]/ms, spikemon.t[np.where(spikemon.i==0)[0]]/ms], [Vt/mV, 2], color='#1f77b4')\n",
        "xlabel('time (ms)')\n",
        "ylabel('membrane potential (mV)')\n",
        "legend();"
      ]
    },
    {
      "cell_type": "markdown",
      "metadata": {
        "id": "pJJHUqSYzC2Y"
      },
      "source": [
        "#### Question:\n",
        "\n",
        "---\n",
        "- How are the two traces above related to each other?\n",
        "---"
      ]
    },
    {
      "cell_type": "markdown",
      "metadata": {
        "id": "oALdHJ4saG4E"
      },
      "source": [
        "### Multiple Analog Traces\n",
        "\n",
        "A way to visualize the continuous variables of multiple cells simultaneously is provided by the \"heat map\". Below you see the voltage traces of all neurons in the network in color coded membrane potentials."
      ]
    },
    {
      "cell_type": "code",
      "execution_count": null,
      "metadata": {
        "id": "NX-bj5mGHZOG"
      },
      "outputs": [],
      "source": [
        "# analog raster of membrane potential\n",
        "plt.figure(figsize=(9,4))\n",
        "plt.pcolor(netmon.v/mV)\n",
        "cb = plt.colorbar()\n",
        "cb.set_label('mV')\n",
        "plt.title('membrane potential')\n",
        "plt.xlabel('time')\n",
        "plt.ylabel('neurons')\n",
        "\n",
        "# # analog raster of excitatory conductance\n",
        "# plt.pcolor(netmon.ge)\n",
        "# plt.title('excitatory conductance')\n",
        "# plt.xlabel('time')\n",
        "# plt.ylabel('neurons')"
      ]
    },
    {
      "cell_type": "markdown",
      "metadata": {
        "id": "bRkZkn15zC2Z"
      },
      "source": [
        "#### Question\n",
        "---\n",
        "- Describe what you see in this plot. Do you see spikes in this plot? Are the cells synchronized?\n",
        "---"
      ]
    },
    {
      "cell_type": "markdown",
      "metadata": {
        "id": "4VRcsS-Dwy4t"
      },
      "source": [
        "### The Interspike Interval Histogram\n",
        "\n",
        "The ISI histogram is another way of learning more about the activity of a network. It displays the frequency of interspike intervals, and can be used to, for instance, judge how random is the firing pattern of a network: if it falls exponentially, we can conclude it 'looks poissonian'.\n",
        "\n",
        "First we calculate some interspike histograms and then move on to display the interspike interval histogram for the entire network."
      ]
    },
    {
      "cell_type": "code",
      "execution_count": null,
      "metadata": {
        "id": "hFfrmB9WQGzs"
      },
      "outputs": [],
      "source": [
        "# Interspike Interval (ISI) histogram\n",
        "\n",
        "# obtain the spike times via the 'spike_trains' method\n",
        "trains = spikemon.spike_trains()\n",
        "\n",
        "# a single spike train looks like this:\n",
        "print(trains[1])"
      ]
    },
    {
      "cell_type": "code",
      "execution_count": null,
      "metadata": {
        "id": "X6cFK4cMo0WT"
      },
      "outputs": [],
      "source": [
        "# its interspike interval looks like this:\n",
        "print(diff(trains[1]))"
      ]
    },
    {
      "cell_type": "code",
      "execution_count": null,
      "metadata": {
        "id": "GzgrhoIDnRLx"
      },
      "outputs": [],
      "source": [
        "# for a single neuron, take the difference between each two neighbouring items\n",
        "interspike_intervals = np.diff(trains[1])\n",
        "\n",
        "# to obtain the interspike intervals for the entire population\n",
        "isis = [diff(trains[idx]) for idx in range(0,N-1)]\n",
        "\n",
        "isis = np.concatenate(isis).ravel()"
      ]
    },
    {
      "cell_type": "code",
      "execution_count": null,
      "metadata": {
        "id": "fPiBpc-AeVB_"
      },
      "outputs": [],
      "source": [
        "# for each neuron, produce its counts\n",
        "plt.hist(isis, bins=20, range=(0,.50),rwidth=.9)  # bins=np.flip(1/np.linspace(1,20,20)) for transformation to frequency adjusted bins (or just plot histogram of 1/isis)\n",
        "plt.ylabel('# of intervals')\n",
        "plt.xlabel('interspike interval time (s)');"
      ]
    },
    {
      "cell_type": "markdown",
      "metadata": {
        "id": "QcK91ZSxO7xa"
      },
      "source": [
        "#### Questions"
      ]
    },
    {
      "cell_type": "markdown",
      "metadata": {
        "id": "a6iOGLieGWR9"
      },
      "source": [
        "---\n",
        "- Make sure you know what is the rate of the poissonian input (it is given in the code above).\n",
        "- From the ISI histogram above, estimate by eye the rate (frequency) of spiking generated by the entire network.\n",
        "- Why does the frequency of the network and of the poisson processes differ so starkly? Find 1 (or up to 5) parameters that influence the relationship between the input and the output.\n",
        "---"
      ]
    },
    {
      "cell_type": "markdown",
      "metadata": {
        "id": "q9I7KqVdhpxh"
      },
      "source": [
        "#### Answers"
      ]
    },
    {
      "cell_type": "markdown",
      "metadata": {
        "id": "G_rcty09hs9b"
      },
      "source": [
        "**Question 1.**\n",
        "\n",
        "The poisson process used a rate of about 500 Hz / 500 spikes per second.\n",
        "\n",
        "**Question 2.**\n",
        "\n",
        "With the parameters we used above, we obtain:\n",
        "\n",
        "- The firing frequency of neuron 1 is: $7.13$ Hz\n",
        "- The population firing frequency is: $8.9$ Hz\n",
        "\n",
        "Because we are using Poisson input, these will vary from run to run. Feel free to change any of these parameters and observe how they impact on the activity.\n",
        "\n",
        "```python\n",
        "taum = 20*ms #  membrane time constant\n",
        "taue = 5*ms # excitatory synapse time constant\n",
        "Vt = -45*mV # spiking threshold\n",
        "Vr = -50*mV # reset potential\n",
        "El = -60*mV # leak reversal potential\n",
        "\n",
        "# increment of synaptic conductance\n",
        "exc_step = 5*mV;\n",
        "```\n",
        "\n",
        "**Question 3.**\n",
        "\n",
        "You can find the 5 parameters that influence the transmission rate by considering the equations and running the simulation multiple times. Keep the poisson input range constant (at 500 Hz) and change one parameter value at a time. You should see that the following parameters influence the transmission rate:\n",
        "\n",
        "1. **tau_e** and FR are directly proportional.\n",
        "\n",
        "- Increasing `tau_e` leads to an increase in activity; an increase in the firing frequency / rate (FR).\n",
        "- Decreasing `tau_e` leads to a decrease in the firing frequency.\n",
        "\n",
        "Why is that? Consider our second DE\n",
        "\n",
        "$$\n",
        "\\frac{d g_e}{dt} = - \\frac{g_e}{\\tau_e}\n",
        "$$\n",
        "\n",
        "Note that an increase in $\\tau_e$ leads to a smaller (negative) value $\\dot g_e = \\frac{dg_e}{dt}$. The excitatory conductance decays slower over time. Which in turn\n",
        "\n",
        "$$\n",
        "\\dot V = \\frac{g_e - (V-E_L)}{\\tau_m}\n",
        "$$\n",
        "\n",
        "leads to a faster change in membrane potential ($\\dot V$ is larger) and thus a higher spiking frequency.\n",
        "\n",
        "\n",
        "2. **tau_m** and FR are inversely related.\n",
        "\n",
        "- increasing `tau_m` leads to a decrease in activity; a decrease in the firing frequency.\n",
        "- decreasing `tau_m` leads to an increase in activity; FR.\n",
        "\n",
        "This is because $\\tau_m$ determines the rate of change, the time it takes for the membrane potential to change $V_m$ ($\\tau_m=R * C$). Thus, as it takes longer $V_m$ will pass the threshold\n",
        "$V_{th}$ less often within our simulation time. We obtain fewer spikes. Alternatively, note our first DE:\n",
        "\n",
        "$$\n",
        "\\dot V = \\frac{g_e - (V-E_L)}{\\tau_m}\n",
        "$$\n",
        "\n",
        "And think about what happens to $\\dot V$ when you increase $\\tau_m$.\n",
        "\n",
        "3. **exc_step** and FR are directly proporional.\n",
        "\n",
        "Increasing the conductance $g_e$ with each spike, indirectly increases the (positive) rate of change of the membrane potential, thereby raising the chance for the neuron to spike (so $\\uparrow$ FR).\n",
        "\n",
        "4. **Vth**\n",
        "\n",
        "Intuitively,\n",
        "- Lowering the threshold (e.g. Vth = -60) leads to more spikes\n",
        "- Making the the threshold more difficult to reach (e.g. Vth = -40 leads to less spikes)\n",
        "\n",
        "\n",
        "5. **El**\n",
        "\n",
        "Note our first DE\n",
        "\n",
        "$$\n",
        "\\dot V = \\frac{g_e - (V-E_L)}{\\tau_m}\n",
        "$$\n",
        "\n",
        "Where $(V-E_L)$ is called the driving force, it's how badly the current membrane potential $V$ wants to go back to its equilibrium $V_{rest}$. If the driving force grows, the urge to go back to equilibrium gets stronger. Note that as $V-E_L$ grows, $\\dot V$ eventually becomes a negative value so the membrane potential $V$ will decrease. This will lead to fewer spikes (so $\\downarrow$ FR).\n",
        "\n",
        "For example,\n",
        "\n",
        "- making $E_L$ more positive (e.g $E_L=-55 mV$) diminishes the driving force, leading to an increase in neuron firing frequency.\n",
        "\n"
      ]
    },
    {
      "cell_type": "markdown",
      "metadata": {
        "id": "Li2liMmfiPEr"
      },
      "source": [
        "In the code below we produce a balanced network, with excitatory and inhibitory synapses. Create **event based** excitatory and inhibitory synapses. That means, for every spike of the presynaptic neuron, the post-synaptic neuron receives a short current step with amplitude `we`. This is expressed in the following lines:\n",
        "\n",
        "```python\n",
        "# create event based synapes between neurons\n",
        "Ce = Synapses(neurons, neurons, on_pre='ge += we')\n",
        "Ci = Synapses(neurons, neurons, on_pre='gi += wi')\n",
        "# connect them\n",
        "Ce.connect('i<800', p=0.1)  # we make first 800 neurons are excitatory neurons\n",
        "Ci.connect('i>=800', p=0.1) # and the rest inhibitory\n",
        "```\n",
        "\n",
        "We make it such that the first 800 neurons are excitatory and the last 200 inhibitory, thus respecting 'Dale's rule', which states that neurons in the nervous system release at most one type of neurotransmitter. As it turns out, this is a true assumption for all mamalian neurons."
      ]
    },
    {
      "cell_type": "markdown",
      "metadata": {
        "id": "0i1KS6v92hc1"
      },
      "source": [
        "## LIF with Periodic Input"
      ]
    },
    {
      "cell_type": "markdown",
      "metadata": {
        "id": "k32wqR71zJ6E"
      },
      "source": [
        "In addition to a random input, we may also introduce any kind of input function, such as a periodic stimulus to the network. Periodic firings are common in many areas and could be generated by, for example, nodding your head. Your vestibular receptors in your semi-circular channels would respond with spikes according to your head bobbing at frequency ```f```. This would be linearly encoded by your vestibular neurons. We could translate that input into 'current' driving the neurons:\n",
        "\n",
        "$I = a \\cdot sin(2 \\pi f t)$\n",
        "\n",
        "\n",
        "> Here a is a constant defining the amplitude of the current. Note that this equation is dependent on `t`. Brian knows how to handle time so that we can have continuous functions of time as input.\n",
        "\n",
        "In the model below we do not have external synapses, and there is only one type of simple integrate and fire neuron. We embed the sinusoidal stimulus in the equation of the neuron."
      ]
    },
    {
      "cell_type": "code",
      "execution_count": null,
      "metadata": {
        "id": "lF9X2AV6xtMo"
      },
      "outputs": [],
      "source": [
        "# from : https://brian2.readthedocs.io/en/stable/examples/phase_locking.html\n",
        "start_scope() # always start with this\n",
        "\n",
        "tau = 20*ms\n",
        "n = 100\n",
        "b = 1 # constant current mean, the modulation varies\n",
        "freq = 5*Hz\n",
        "\n",
        "eqs = '''\n",
        "dv/dt = (-v + input + b) / tau : 1\n",
        "input = a * sin(2 * pi * freq * t) : 1\n",
        "a : 1\n",
        "'''\n",
        "neurons = NeuronGroup(n, model=eqs, threshold='v > 1', reset='v = 0',\n",
        "                      method='euler')\n",
        "\n",
        "# we randomize the initial state of the network\n",
        "neurons.v = 'rand()'\n",
        "\n",
        "# We attribute to each neuron an input 'amplitude'\n",
        "# (a) that is a function of the number of neurons (n)\n",
        "# and of the neuron index (i):\n",
        "neurons.a = '0.05 + 0.7*i/n'\n",
        "\n",
        "S = SpikeMonitor(neurons)\n",
        "trace = StateMonitor(neurons, ['v','input'], record=[0,99])\n",
        "\n",
        "run(1000*ms)\n",
        "figure(figsize=(20,8))\n",
        "subplot(311)\n",
        "plot(S.t/ms, S.i, '.k')\n",
        "xlabel('Time (ms)')\n",
        "ylabel('Neuron index')\n",
        "subplot(312)\n",
        "plot(trace.t/ms, trace.v.T)\n",
        "xlabel('Time (ms)')\n",
        "ylabel('v')\n",
        "subplot(313)\n",
        "plot(trace.t/ms, trace.input.T)\n",
        "xlabel('Time (ms)')\n",
        "ylabel('I (nA)')\n",
        "tight_layout()\n",
        "show()"
      ]
    },
    {
      "cell_type": "markdown",
      "metadata": {
        "id": "DXa95tFDzC2d"
      },
      "source": [
        "### Questions\n",
        "---\n",
        "- Explain the main features of the plots above. For example:\n",
        "- In the raster plot:\n",
        "    - why is regularity increasing from neuron 1 to 100?\n",
        "    - Why is there more scatter in some neurons?\n",
        "- In the voltage time series:\n",
        "    - Should we see spikes?\n",
        "    - What is the difference between the two cells?\n",
        "---"
      ]
    },
    {
      "cell_type": "markdown",
      "metadata": {
        "id": "95qM_h9J5CXs"
      },
      "source": [
        "# Part II. Balanced Networks\n",
        "\n",
        "\n"
      ]
    },
    {
      "cell_type": "markdown",
      "metadata": {
        "id": "hcmUCtk0T4hi"
      },
      "source": [
        "## Phase transitions\n",
        "\n"
      ]
    },
    {
      "cell_type": "markdown",
      "metadata": {
        "id": "MI2erVpb5rk-"
      },
      "source": [
        "There is good evidence that cortical networks operate in a **balanced state**, one in which the intensity of excitation is balanced by inhibition. This keeps neurons in a optimal operational range, as it increases sensitivity to small inputs, avoids wasting energy in an 'always on' mode, and does not waste energy in always regular activity. It is also a 'highly informative state', in the sense that it is good at encoding input.\n",
        "\n",
        "A consequence of balanced synapses is that, if true, the brain operates at a **critical regime**. Critical in this sense means \"close to a phase transition\". Like water at 0, it can quickly become ice. In the brain this looks like bursts of activity (often called \"cascades of spikes\") alternating with periods with no spikes. The transition between active and silent is sharp and very sensitive to small changes in input. Some have called this \"the edge of chaos\".\n",
        "\n",
        "In short:\n",
        "> Brain networks are really sensitive to certain parameter values.\n",
        "\n",
        "Networks of LIF neurons can demonstrate the effect of critical dynamics. This is accomplished by tuning the relative weight of excitatory and inhibitory synapses, so that they balance each other."
      ]
    },
    {
      "cell_type": "markdown",
      "metadata": {
        "id": "dRdndQWun0BY"
      },
      "source": [
        "<img src=\"https://neuronaldynamics.epfl.ch/online/x334.png\" width=\"300x\">\n",
        "\n",
        "The above diagram is a **parameter space** of the LIF network displaying the different kind of states the network can occupy, as a function of the relationship between input and the balancing variable $g$, the relative importance of inhibition. [(for more details see here)](https://neuronaldynamics.epfl.ch/online/Ch13.S4.html).\n",
        "\n",
        "\n",
        "- **Synchronous Regular (SR).**\n",
        "  - $g = 3$\n",
        "  - input = $2$\n",
        "- **Synchronous Irregular fast (SI).**\n",
        "  - $g = 6$\n",
        "  - input = $4$\n",
        "- **Asynchronous Irregular (AI).**\n",
        "  - $g = 5$\n",
        "  - input = $2$\n",
        "- **Synchronous Irregular slow (SI).**\n",
        "  - $g = 4.5$\n",
        "  - input = $0.9$\n",
        "\n",
        "<img src=\"https://neuronaldynamics.epfl.ch/online/x335.png\" width=\"300x\">\n",
        "\n",
        "Here are examples from the different types of dynamics. Here we see raster plots with histograms displaying the population activity below. Your job below will be to recreate these graphs using the parameters above as you vary the values for the relative importance of inhibition (`g`) and the external input the network receives (`w_poisson`)."
      ]
    },
    {
      "cell_type": "markdown",
      "metadata": {
        "id": "xsofFEibYfKi"
      },
      "source": [
        "In the exercises below we will inspect the influence of the ratio between excitation and inhibition on network activity. This should provide you with asense of the spectrum of possibilities for the spiking dynamics of spiking networks.\n",
        "\n"
      ]
    },
    {
      "cell_type": "markdown",
      "metadata": {
        "id": "C4yEkJU3uIax"
      },
      "source": [
        "## Recipe for a balanced network:"
      ]
    },
    {
      "cell_type": "markdown",
      "metadata": {
        "id": "PIW9BgT0Gzg_"
      },
      "source": [
        "1. **Neurons:** Thousands of LIF neurons (as may fit in a 100um cubic patch of brain).\n",
        "3. **Synapses:** Exciatory to Inhibitory neuron proportion: 80% to 20%, the rough proportion found in many mammalian cortices.\n",
        "5. **Connectivity:** We assume random connectivity. Any neuron in the network can be connected to any other with a given probability, irrespectively of type. This type of network is also called an **Ërdos-Reiny** network.\n",
        "6. **Input:** background input via poisson process to bring the network to the verge of spiking.\n",
        "\n",
        "---\n",
        "\n",
        "- Parameter values are taken from the paper by [Brunel, 2000](https://web.stanford.edu/group/brainsinsilicon/documents/BrunelSparselyConnectedNets.pdf), and can also be found in this [online book on neurodynamics](https://neuronaldynamics.epfl.ch/online/Ch13.S4.html).\n",
        "\n",
        "- Neurons are connected (coupled) to each other with some probability epsilon & also recurrently connected.\n",
        "- Both excitatory and inhibitory neuron populations get an external Poisson input (poisson process as explained above).\n",
        "\n"
      ]
    },
    {
      "cell_type": "markdown",
      "metadata": {
        "id": "OCV9X-D5zC2f"
      },
      "source": [
        "### Neuron and Network Parameters"
      ]
    },
    {
      "cell_type": "code",
      "execution_count": null,
      "metadata": {
        "id": "zCqQqu-IzC2f"
      },
      "outputs": [],
      "source": [
        "start_scope() # Brian's way of starting anew\n",
        "\n",
        "# We start out with the following default parameters\n",
        "\n",
        "####\n",
        "# default LIF neuron parameters\n",
        "v_rest = 0. * mV # rest potential\n",
        "Vr = 10. * mV # reset potential\n",
        "Vth = 20. * mV # spiking threshold\n",
        "tau_m = 20. * ms # membrane time scale\n",
        "tau_ref = 2.0 * ms # absolute refractory period\n",
        "\n",
        "####\n",
        "# default network parameters\n",
        "# neurons\n",
        "N_excit = 5000\n",
        "N_inhib = int(N_excit/4)\n",
        "\n",
        "# connectivity parameters\n",
        "epsilon = 0.1 # connection probbaility\n",
        "delay = 1.5 * ms # synaptic delay\n",
        "\n",
        "####\n",
        "# simulation parameter (for the Euler solver)\n",
        "defaultclock.dt = 0.05 * ms"
      ]
    },
    {
      "cell_type": "markdown",
      "metadata": {
        "id": "SKfg0BPVRt7N"
      },
      "source": [
        "### Define Dynamics, Create Network Object\n",
        "\n",
        "We have:\n",
        "\n",
        "- a differential equation that tells us how our state variable $V_m$ changes over time, the **dynamics**, which are encoded by the equations  `eqs = \"\"\"...\"\"\"`.\n",
        "- a network with N neurons ` = NeuronGroup(...)`"
      ]
    },
    {
      "cell_type": "code",
      "execution_count": null,
      "metadata": {
        "id": "kKz4f-uBzC2g"
      },
      "outputs": [],
      "source": [
        "# the dynamics\n",
        "eqs = \"\"\"\n",
        "    dv/dt = -(v-v_rest) / tau_m : volt (unless refractory)\n",
        "    \"\"\"\n",
        "\n",
        "# build the network\n",
        "EI_network = NeuronGroup(N_excit + N_inhib, model=eqs, threshold=\"v>Vth\", reset=\"v=Vr\", refractory=tau_ref,\n",
        "        method=\"linear\")"
      ]
    },
    {
      "cell_type": "markdown",
      "metadata": {
        "id": "WjixYZ2CzPiO"
      },
      "source": [
        "### Voltage Synapses"
      ]
    },
    {
      "cell_type": "markdown",
      "metadata": {
        "id": "C1BHpXHL-LNz"
      },
      "source": [
        "The **synaptic events** are little voltage jolts to the membrane. We defined them as such:\n",
        "\n",
        "```python\n",
        "w0 = 0.1 * mV # synaptic voltage deflection (event based synapse)\n",
        "\n",
        "# EPSV: Excitatory Post Synaptic Voltage Deflection\n",
        "we = w0\n",
        "wi = -g*w0\n",
        "```\n",
        "\n",
        "Note that the unit of weight is voltage. This is what happens: a spike occurs, and after a short delay, the voltage jumps with `0.1 mV`. Since each spike triggers this tiny voltage jump, the more spikes occur, the faster the voltage reaches threshold (notice the positive feedback loop?). This voltage decays with a certain speed (Our neuron is a \"Leaky\" Integrate and Fire, a LIF).\n",
        "\n",
        "Variable $g$ defines the relative importance of inhibition. As you will see, changing the strength of the inhibitory synapses has major impact on the network activity."
      ]
    },
    {
      "cell_type": "code",
      "execution_count": null,
      "metadata": {
        "id": "pRdhHeCAzC2h"
      },
      "outputs": [],
      "source": [
        "# synaptic weights\n",
        "w0 = 0.1 * mV\n",
        "we = w0\n",
        "g = 4. # relative importance of inhibition\n",
        "wi = -g*w0\n",
        "# note: w_ee = w_ei = w0 and w_ie=w_ii = -g*w0"
      ]
    },
    {
      "cell_type": "markdown",
      "metadata": {
        "id": "9ikdf2CizC2h"
      },
      "source": [
        "### Connect Neurons"
      ]
    },
    {
      "cell_type": "markdown",
      "metadata": {
        "id": "nfv1qhozzC2h"
      },
      "source": [
        "In the code below we produce a balanced network, with excitatory and inhibitory synapses. This is expressed in the following lines:\n",
        "\n",
        "We assume the first `N_excit` neurons are excitatory and the remaining are inhibitory.\n",
        "\n",
        "```python\n",
        "# slice populations\n",
        "exc_pop = network[:N_excit]\n",
        "inh_pop = network[N_excit:]\n",
        "```\n",
        "\n",
        "Create **event based** excitatory and inhibitory synapses. That means, for every spike of the presynaptic neuron, the post-synaptic neuron receives a short current step with amplitude `w0`. We also add a conduction delay.\n",
        "\n",
        "```python\n",
        "# create event based synapes between neurons\n",
        "exc_synapses = Synapses(source=exc_pop, target=network, on_pre=\"v += we\", delay=delay)\n",
        "```\n",
        "\n",
        "We then connect the neurons probabilistically, making some of them excitatory and others inhibitory:\n",
        "    \n",
        "```python\n",
        "exc_synapses.connect(p=epsilon)\n",
        "```\n"
      ]
    },
    {
      "cell_type": "code",
      "execution_count": null,
      "metadata": {
        "id": "DEsyuEVuzC2h"
      },
      "outputs": [],
      "source": [
        "# slice populations\n",
        "exc_pop = EI_network[:N_excit]\n",
        "inh_pop = EI_network[N_excit:]\n",
        "\n",
        "# create the synapses & connect\n",
        "exc_synapses = Synapses(source=exc_pop, target=EI_network, on_pre=\"v += we\", delay=delay)\n",
        "exc_synapses.connect(p=epsilon)\n",
        "\n",
        "inhib_synapses = Synapses(source=inh_pop, target=EI_network, on_pre=\"v += wi\", delay=delay)\n",
        "inhib_synapses.connect(p=epsilon)\n"
      ]
    },
    {
      "cell_type": "markdown",
      "metadata": {
        "id": "aiqs7uKpzC2i"
      },
      "source": [
        "### Poisson Inputs"
      ]
    },
    {
      "cell_type": "code",
      "execution_count": null,
      "metadata": {
        "id": "qJEztPPmzC2i"
      },
      "outputs": [],
      "source": [
        "# input parameters\n",
        "poisson_input_rate = 13. * Hz\n",
        "N_poisson_input = 1000 # number of poisson inputs\n",
        "w_poisson = w0 # one could also play with this variable\n",
        "\n",
        "external_poisson_input = PoissonInput(target=EI_network, target_var=\"v\", N=N_poisson_input,\n",
        "                                      rate=poisson_input_rate, weight=w_poisson)"
      ]
    },
    {
      "cell_type": "markdown",
      "metadata": {
        "id": "scfUsCmyzC2i"
      },
      "source": [
        "### Connect Monitors"
      ]
    },
    {
      "cell_type": "markdown",
      "metadata": {
        "id": "ABPfYIRFzC2i"
      },
      "source": [
        "Then, we want to see how our neurons are behaving. To do this, we create different monitors.\n",
        "\n",
        "We want to:\n",
        "- record the spikes `= SpikeMonitor(...)`\n",
        "- trace the voltage `= StateMonitor(...)`\n",
        "- check the overall activity of the neurons `= PopulationRateMonitor(...)`"
      ]
    },
    {
      "cell_type": "code",
      "execution_count": null,
      "metadata": {
        "id": "H0oqYhsazC2j"
      },
      "outputs": [],
      "source": [
        "# choose number of indices we want to monitor (for voltagemonitor & population rate)\n",
        "num_indices = 20\n",
        "\n",
        "idx_monitored_neurons = sample(range(N_excit+N_inhib), num_indices)\n",
        "# make monitors\n",
        "rate_monitor = PopulationRateMonitor(EI_network)\n",
        "spike_monitor = SpikeMonitor(EI_network, record=idx_monitored_neurons)\n",
        "voltage_monitor = StateMonitor(EI_network, \"v\", record=idx_monitored_neurons)"
      ]
    },
    {
      "cell_type": "markdown",
      "metadata": {
        "id": "3xLIFMQ9VfQh"
      },
      "source": [
        "### Run your simulation\n",
        "\n",
        "We have build the network and our recording devices connected, great! Now you can run the simulation for a given simulation duration ```simtime``` with:\n",
        "\n",
        "```python\n",
        "run(simtime)\n",
        "```"
      ]
    },
    {
      "cell_type": "code",
      "execution_count": null,
      "metadata": {
        "id": "V4t5mTo2zC2j"
      },
      "outputs": [],
      "source": [
        "# set an initial condition (starting membrane potential)\n",
        "EI_network.v = v_rest\n",
        "\n",
        "\n",
        "sim_time = 250*ms\n",
        "\n",
        "# simulate for this duration\n",
        "run(sim_time)"
      ]
    },
    {
      "cell_type": "markdown",
      "metadata": {
        "id": "DNRfiNzXV8RD"
      },
      "source": [
        "### Visualize the neural data\n",
        "\n",
        "After running the simulation we want to \"see\" results. Did neurons spike? What was their voltage? This is where the monitors come in. We can use the them to display the network behaviour.\n",
        "\n",
        "```python\n",
        "# recording spikes\n",
        "spike_monitor.t : an array of time instances when a neuron spiked\n",
        "\n",
        "spike_monitor.i : an array of the neurons indices that spiked\n",
        "\n",
        "# for the voltage trace\n",
        "voltage_monitor.t : array of time instances\n",
        "\n",
        "voltage_monitor.v.T : voltage over time\n",
        "\n",
        "# population rate (LFP)\n",
        "rate_monitor.rate : array of population activity (Hz)\n",
        "```\n",
        "---\n",
        "\n",
        "**Hint.**\n",
        "if you get errors, print the arrays to sanity check them before plotting.\n",
        "\n",
        "---"
      ]
    },
    {
      "cell_type": "code",
      "execution_count": null,
      "metadata": {
        "id": "b8D0-ZITVW3E"
      },
      "outputs": [],
      "source": [
        "# plot it\n",
        "plt.figure(1, figsize=[10,7], dpi=100)\n",
        "\n",
        "plt.subplot(3,1,1)\n",
        "plot(spike_monitor.t/ms, spike_monitor.i, '.k', ms=0.5)\n",
        "xlabel('Time (ms)')\n",
        "ylabel('Neuron index')\n",
        "\n",
        "plt.subplot(3,1,2)\n",
        "plt.title('Voltage traces')\n",
        "plot(voltage_monitor.t/ms, voltage_monitor.v.T, color='xkcd:teal')\n",
        "xlabel('Time (ms)')\n",
        "ylabel('Membrane potential $V_m$')\n",
        "\n",
        "plt.subplot(3,1,3)\n",
        "plt.title('Population activity')\n",
        "plt.plot(rate_monitor.t/ms, rate_monitor.rate, color='xkcd:coral')\n",
        "plt.xlabel('time (ms)')\n",
        "plt.ylabel('A(t) (Hz)')\n",
        "tight_layout()"
      ]
    },
    {
      "cell_type": "markdown",
      "metadata": {
        "id": "-o0D1n127OC0"
      },
      "source": [
        "## Emergence of synchronisation"
      ]
    },
    {
      "cell_type": "markdown",
      "metadata": {
        "id": "3Yn69hXi9yA5"
      },
      "source": [
        "Now, use the network you have implemented for the previous exercise and change the following values: `g=2.5` and `poisson_input_rate=14.*Hz`. Use the coding cells below to copy and adapt the code you had above. Run the simulation as before and answer the following questions:\n",
        "\n",
        "### Questions\n",
        "---\n",
        "- How would you describe the network activity?\n",
        "- In which state is this network?\n",
        "- Apart from the balance between E-I, what other factors determine the ability of the network to synchronize?\n",
        "---"
      ]
    },
    {
      "cell_type": "markdown",
      "metadata": {
        "id": "mFqr-uLOzC2l"
      },
      "source": [
        "### Your Code"
      ]
    },
    {
      "cell_type": "code",
      "execution_count": null,
      "metadata": {
        "id": "sguBj-djzC2l"
      },
      "outputs": [],
      "source": [
        "### Your Network Here"
      ]
    },
    {
      "cell_type": "markdown",
      "metadata": {
        "heading_collapsed": true,
        "id": "XOsaLRiDzC2l"
      },
      "source": [
        "### Our Code"
      ]
    },
    {
      "cell_type": "code",
      "execution_count": null,
      "metadata": {
        "hidden": true,
        "id": "R7dqKx59zlwA"
      },
      "outputs": [],
      "source": [
        "start_scope()\n",
        "\n",
        "g= 2.5\n",
        "\n",
        "# weight strengths\n",
        "J_excit = w0\n",
        "J_inhib = -g*w0\n",
        "\n",
        "\n",
        "# the dynamics\n",
        "eqs = \"\"\"\n",
        "    dv/dt = -(v-v_rest) / tau_m : volt (unless refractory)\n",
        "    \"\"\"\n",
        "# build the network\n",
        "network = NeuronGroup(N_excit + N_inhib, model=eqs, threshold=\"v>Vth\", reset=\"v=Vr\", refractory=tau_ref,\n",
        "        method=\"linear\")\n",
        "\n",
        "# set the starting membrane potential\n",
        "network.v = v_rest\n",
        "\n",
        "# make populations\n",
        "exc_pop = network[:N_excit]\n",
        "inh_pop = network[N_excit:]\n",
        "\n",
        "# create the synapses & connect\n",
        "exc_synapses = Synapses(source=exc_pop, target=network, on_pre=\"v += J_excit\", delay=delay)\n",
        "exc_synapses.connect(p=epsilon)\n",
        "\n",
        "inhib_synapses = Synapses(source=inh_pop, target=network, on_pre=\"v += J_inhib\", delay=delay)\n",
        "inhib_synapses.connect(p=epsilon)\n",
        "\n",
        "# poisson input\n",
        "external_poisson_input = PoissonInput(target=network, target_var=\"v\", N=N_poisson_input,\n",
        "                                      rate=poisson_input_rate, weight=w_poisson)\n",
        "\n",
        "# generate set of random integers (note: not compatible with numpy)\n",
        "idx_monitored_neurons = sample(range(N_excit+N_inhib), num_indices)\n",
        "# make monitors\n",
        "rate_monitor = PopulationRateMonitor(network)\n",
        "spike_monitor = SpikeMonitor(network, record=idx_monitored_neurons)\n",
        "voltage_monitor = StateMonitor(network, \"v\", record=idx_monitored_neurons)"
      ]
    },
    {
      "cell_type": "code",
      "execution_count": null,
      "metadata": {
        "hidden": true,
        "id": "WKv_Nu6szltl"
      },
      "outputs": [],
      "source": [
        "sim_time = 250*ms\n",
        "\n",
        "# simulate for this duration\n",
        "run(sim_time)"
      ]
    },
    {
      "cell_type": "code",
      "execution_count": null,
      "metadata": {
        "hidden": true,
        "id": "_azFNizOzlrk"
      },
      "outputs": [],
      "source": [
        "# plot it\n",
        "plt.figure(1, figsize=[10,7], dpi=150)\n",
        "\n",
        "plt.subplot(3,1,1)\n",
        "plot(spike_monitor.t/ms, spike_monitor.i, '.k', ms=0.08)\n",
        "xlabel('Time (ms)')\n",
        "ylabel('Neuron index')\n",
        "\n",
        "plt.subplot(3,1,2)\n",
        "plt.title('Voltage traces')\n",
        "plot(voltage_monitor.t/ms, voltage_monitor.v.T, color='xkcd:teal')\n",
        "xlabel('Time (ms)')\n",
        "ylabel('Membrane potential $V_m$')\n",
        "\n",
        "plt.subplot(3,1,3)\n",
        "plt.title('Population activity')\n",
        "plt.plot(rate_monitor.t/ms, rate_monitor.rate, color='xkcd:coral')\n",
        "plt.xlabel('time (ms)')\n",
        "plt.ylabel('A(t) (Hz)')\n",
        "tight_layout()"
      ]
    },
    {
      "cell_type": "markdown",
      "metadata": {
        "id": "KUPkqFbr71rZ"
      },
      "source": [
        "## Disable recurrent feedback\n",
        "\n"
      ]
    },
    {
      "cell_type": "markdown",
      "metadata": {
        "id": "sMdw5PwCiACA"
      },
      "source": [
        "\n",
        "\n",
        "---\n",
        "\n",
        "**Exercise:** What would be the population activity caused by the external input only (by the poisson neurons)? Change the network above, but disable the connections between neurons in the network. Use a new coding cell below to do so. Then answer the questions below.\n",
        "\n",
        "---\n",
        "\n",
        "```python\n",
        "w0 = 0 * mV # turn it off!\n",
        "amplitude =  0.1 * mV\n",
        "```\n",
        "\n",
        "```\n",
        "amplitude: optional. Synaptic weight of the excitatory external poisson neurons onto all neurons in the network. The purpose of this parameter is to see the effect of external input in the absence of network feedback.\n",
        "```\n",
        "\n",
        "```python\n",
        "\n",
        "# set this to True\n",
        "random_vm_init = False\n",
        "\n",
        "```"
      ]
    },
    {
      "cell_type": "markdown",
      "metadata": {
        "id": "ixHHhTwKM0cP"
      },
      "source": [
        "### Your Code"
      ]
    },
    {
      "cell_type": "code",
      "execution_count": null,
      "metadata": {
        "id": "r1rzjW3YMz63"
      },
      "outputs": [],
      "source": [
        "### your code"
      ]
    },
    {
      "cell_type": "markdown",
      "metadata": {
        "id": "XQIURlq6MygR"
      },
      "source": [
        "### Solution"
      ]
    },
    {
      "cell_type": "code",
      "execution_count": null,
      "metadata": {
        "id": "rrqLBHjc723x"
      },
      "outputs": [],
      "source": [
        "# redefine params\n",
        "start_scope()\n",
        "\n",
        "# default LIF neuron parameters\n",
        "v_rest = 0. * mV # rest potential\n",
        "Vr = 10. * mV # reset potential\n",
        "Vth = 20. * mV # spiking threshold\n",
        "tau_m = 20. * ms # membrane time scale\n",
        "tau_ref = 2.0 * ms # absolute refractory period\n",
        "\n",
        "# default network params\n",
        "w0 = 0 * mV # off\n",
        "w_external = 0.1 * mV\n",
        "\n",
        "# note: w_ee = w_ei = w0 and w_ie=w_ii = -g*w0\n",
        "g = 2.5 # relative importance of inhibition\n",
        "epsilon = 0.1 # connection probbaility\n",
        "delay = 1.5 * ms # synaptic delay\n",
        "poisson_input_rate = 14. * Hz\n",
        "N_poisson_input = 1000 # number of poisson inputs\n",
        "\n",
        "# neurons\n",
        "N_excit = 6000\n",
        "N_inhib = 1500\n",
        "defaultclock.dt = 0.05 * ms\n",
        "\n",
        "# weight strengths\n",
        "J_excit = w0\n",
        "J_inhib = -g*w0\n",
        "\n",
        "# === 3.B let's randomise stat state of each neuron ===\n",
        "random_vm_init = False\n",
        "# =====================================================\n",
        "\n",
        "# choose number of indices we want to monitor (for voltagemonitor & populationrate)\n",
        "num_indices = 5"
      ]
    },
    {
      "cell_type": "code",
      "execution_count": null,
      "metadata": {
        "id": "JHzSN2Gv72-5"
      },
      "outputs": [],
      "source": [
        "# the dynamics\n",
        "eqs = \"\"\"\n",
        "dv/dt = -(v-v_rest) / tau_m : volt (unless refractory)\n",
        "\"\"\"\n",
        "# build the network\n",
        "network = NeuronGroup(N_excit + N_inhib, model=eqs, threshold=\"v>Vth\", reset=\"v=Vr\", refractory=tau_ref,\n",
        "        method=\"linear\")\n",
        "\n",
        "# set the starting membrane potential\n",
        "network.v = v_rest\n",
        "\n",
        "# the membrane voltage of each neuron is initialized with a random value drawn from Uniform(v_rest, firing_threshold)\n",
        "if random_vm_init == True:\n",
        "    network.v = random.uniform(v_rest/mV, high=Vth/mV, size=(N_excit+N_inhib)) * mV\n",
        "\n",
        "# make populations\n",
        "exc_pop = network[:N_excit]\n",
        "inh_pop = network[N_excit:]\n",
        "\n",
        "# create the synapses & connect\n",
        "exc_synapses = Synapses(source=exc_pop, target=network, on_pre=\"v += J_excit\", delay=delay)\n",
        "exc_synapses.connect(p=epsilon)\n",
        "\n",
        "inhib_synapses = Synapses(source=inh_pop, target=network, on_pre=\"v += J_inhib\", delay=delay)\n",
        "inhib_synapses.connect(p=epsilon)\n",
        "\n",
        "# poisson input\n",
        "external_poisson_input = PoissonInput(target=network, target_var=\"v\", N=N_poisson_input,\n",
        "                                      rate=poisson_input_rate, weight=w_poisson)\n",
        "\n",
        "# generate set of random integers (note: not compatible with numpy)\n",
        "idx_monitored_neurons = sample(range(N_excit+N_inhib), num_indices)\n",
        "# make monitors\n",
        "rate_monitor = PopulationRateMonitor(network)\n",
        "spike_monitor = SpikeMonitor(network, record=idx_monitored_neurons)\n",
        "voltage_monitor = StateMonitor(network, \"v\", record=idx_monitored_neurons)"
      ]
    },
    {
      "cell_type": "code",
      "execution_count": null,
      "metadata": {
        "id": "yH4WAfKg8OxB"
      },
      "outputs": [],
      "source": [
        "sim_time = 250*ms\n",
        "\n",
        "# simulate for this duration\n",
        "run(sim_time)"
      ]
    },
    {
      "cell_type": "code",
      "execution_count": null,
      "metadata": {
        "id": "3SRyurMr8Rnu"
      },
      "outputs": [],
      "source": [
        "# plot it\n",
        "plt.figure(1, figsize=[10,7], dpi=100)\n",
        "\n",
        "plt.subplot(3,1,1)\n",
        "plot(spike_monitor.t/ms, spike_monitor.i, '.k', ms=0.3)\n",
        "xlabel('Time (ms)')\n",
        "ylabel('Neuron index')\n",
        "\n",
        "plt.subplot(3,1,2)\n",
        "plt.title('Voltage traces')\n",
        "plot(voltage_monitor.t/ms, voltage_monitor.v.T/mV)#, color='xkcd:teal')\n",
        "xlabel('Time (ms)')\n",
        "ylabel('Membrane potential $V_m$')\n",
        "\n",
        "plt.subplot(3,1,3)\n",
        "plt.title('Population activity')\n",
        "plt.plot(rate_monitor.t/ms, rate_monitor.rate)#, color='xkcd:coral')\n",
        "plt.xlabel('time (ms)')\n",
        "plt.ylabel('A(t) (Hz)')\n",
        "tight_layout()"
      ]
    },
    {
      "cell_type": "markdown",
      "metadata": {
        "id": "guHBB3oMzC2p"
      },
      "source": [
        "### Questions\n",
        "\n",
        "---\n",
        "\n",
        "**Pause and ponder:** Explain why the non-recurrent network shows a strong synchronization in the beginning and why this synchronization fades out.\n",
        "\n",
        "**Question:** The non recurrent network is strongly synchronized in the beginning. Is the connected network simply “locked” to this initial synchronization? You can falsify this hypothesis by initializing each neuron in the network with a random vm. Run the simulation with `random_vm_init=True` to see how the synchronization emerges over time.\n",
        "\n",
        "---"
      ]
    },
    {
      "cell_type": "markdown",
      "metadata": {
        "id": "M0sIkJgMzC2p"
      },
      "source": [
        "# Discussion\n",
        "\n",
        "## Random Input\n",
        "The input we used in this case was stochastic, represented by random spikes. In an important sense this type of input embodies the least possible number of assumptions about the input, and provides a sense of entire class of possible network behaviors for a given input intensity. However, in the nervous system there is much more structure in input patterns to the network, due to sensory input and specific feedbacks through the environment. When the stimuli to the network are specific, we may be able to extract them from spike trains, thus decoding the neural activity. Encoding and decoding of stimuli are in fact the next step in our exploration of spiking neural networks.\n",
        "\n",
        "## Random Connectivity\n",
        "Even though we had two different populations the connectivity across them was random. To what extent are brain networks well represented by random connections? This is certainly a very interesting discussion, but the short version of it is that \"as a first approximation it gives us plenty of insights about actual brain data\". However, here we were looking mostly into the dynamics of the network. When we start discussing 'encoding and decoding', we will start to see we can start interpreting network structure in the context of behaviors."
      ]
    },
    {
      "cell_type": "markdown",
      "metadata": {
        "id": "lSAp5rD9qAHh"
      },
      "source": [
        "# Going Further\n",
        "These lectures by prof. Gerstner dwell on theoretical aspects of the material of this project:\n",
        "- [Poisson Process](http://www.youtube.com/watch?v=4r_gc4vf8eE)\n",
        "- [Neuronal Variability](http://www.youtube.com/watch?v=mmvNRkkJdJs)\n",
        "- [Sources of Variability](http://www.youtube.com/watch?v=4atNy9DJnPk)"
      ]
    },
    {
      "cell_type": "markdown",
      "metadata": {
        "id": "6HsgdsLhf-72"
      },
      "source": [
        "# References\n",
        "\n",
        "0. [Neuronal Dynamics\n",
        "From single neurons to networks and models of cognition\n",
        "Wulfram Gerstner, Werner M. Kistler, Richard Naud and Liam Paninski (online book)](https://neuronaldynamics.epfl.ch/online/index.html)\n",
        "1. [Balanced E and I required for neuronal selectivity\n",
        "Ran Rubin, L. F. Abbott, Haim Sompolinsky\n",
        "Proceedings of the National Academy of Sciences Oct 2017, 114 (44) E9366-E9375; DOI: 10.1073/pnas.1705841114](https://www.pnas.org/content/114/44/E9366)\n",
        "2. [Bistable networks and balanced inhibition](http://www.scholarpedia.org/article/Up_and_down_states#Bistable_networks_and_balanced_inhibition)\n",
        "3. [Neuronal avalanche](http://www.scholarpedia.org/article/Neuronal_avalanche)\n",
        "4. [Neuronal noise](http://www.scholarpedia.org/article/Neuronal_noise)"
      ]
    },
    {
      "cell_type": "markdown",
      "metadata": {
        "id": "BGJdmr3g9h8a"
      },
      "source": [
        "# License\n",
        "\n",
        "<a rel=\"license\" href=\"http://creativecommons.org/licenses/by/4.0/\"><img alt=\"Creative Commons License\" style=\"border-width:0\" src=\"https://i.creativecommons.org/l/by/4.0/88x31.png\" /></a><br />This work is licensed under a <a rel=\"license\" href=\"http://creativecommons.org/licenses/by/4.0/\">Creative Commons Attribution 4.0 International License</a>.\n",
        "\n",
        "Mario Negrello, Daphne Cornelise, Elias Santoro.\n"
      ]
    }
  ],
  "metadata": {
    "colab": {
      "collapsed_sections": [
        "hFfv2XutzC2S",
        "q9I7KqVdhpxh"
      ],
      "include_colab_link": true,
      "machine_shape": "hm",
      "private_outputs": true,
      "provenance": [],
      "toc_visible": true
    },
    "jupytext": {
      "formats": "ipynb,md"
    },
    "kernelspec": {
      "display_name": "Python 3 (ipykernel)",
      "language": "python",
      "name": "python3"
    },
    "language_info": {
      "codemirror_mode": {
        "name": "ipython",
        "version": 3
      },
      "file_extension": ".py",
      "mimetype": "text/x-python",
      "name": "python",
      "nbconvert_exporter": "python",
      "pygments_lexer": "ipython3",
      "version": "3.11.11"
    },
    "toc": {
      "base_numbering": 1,
      "nav_menu": {},
      "number_sections": true,
      "sideBar": true,
      "skip_h1_title": false,
      "title_cell": "Table of Contents",
      "title_sidebar": "Contents",
      "toc_cell": false,
      "toc_position": {
        "height": "calc(100% - 180px)",
        "left": "10px",
        "top": "150px",
        "width": "286.7124938964844px"
      },
      "toc_section_display": true,
      "toc_window_display": true
    }
  },
  "nbformat": 4,
  "nbformat_minor": 0
}
